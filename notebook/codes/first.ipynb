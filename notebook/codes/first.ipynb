{
 "cells": [
  {
   "cell_type": "code",
   "execution_count": 1,
   "metadata": {},
   "outputs": [],
   "source": [
    "import pandas as pd"
   ]
  },
  {
   "cell_type": "code",
   "execution_count": 6,
   "metadata": {},
   "outputs": [
    {
     "name": "stdout",
     "output_type": "stream",
     "text": [
      "       Unique ID  Indicator ID                                         Name  \\\n",
      "0         172653           375                       Nitrogen dioxide (NO2)   \n",
      "1         172585           375                       Nitrogen dioxide (NO2)   \n",
      "2         336637           375                       Nitrogen dioxide (NO2)   \n",
      "3         336622           375                       Nitrogen dioxide (NO2)   \n",
      "4         172582           375                       Nitrogen dioxide (NO2)   \n",
      "...          ...           ...                                          ...   \n",
      "16213     130750           647            Outdoor Air Toxics - Formaldehyde   \n",
      "16214     130780           647            Outdoor Air Toxics - Formaldehyde   \n",
      "16215     131020           652  Cardiac and respiratory deaths due to Ozone   \n",
      "16216     131026           652  Cardiac and respiratory deaths due to Ozone   \n",
      "16217     325247           643                Annual vehicle miles traveled   \n",
      "\n",
      "                            Measure Measure Info Geo Type Name  Geo Join ID  \\\n",
      "0                              Mean          ppb         UHF34          203   \n",
      "1                              Mean          ppb         UHF34          203   \n",
      "2                              Mean          ppb         UHF34          204   \n",
      "3                              Mean          ppb         UHF34          103   \n",
      "4                              Mean          ppb         UHF34          104   \n",
      "...                             ...          ...           ...          ...   \n",
      "16213  Annual average concentration        µg/m3         UHF42          211   \n",
      "16214  Annual average concentration        µg/m3       Borough            5   \n",
      "16215         Estimated annual rate  per 100,000         UHF42          504   \n",
      "16216         Estimated annual rate  per 100,000       Borough            5   \n",
      "16217                 million miles      per km2            CD          107   \n",
      "\n",
      "                           Geo Place Name          Time Period  Start_Date  \\\n",
      "0      Bedford Stuyvesant - Crown Heights  Annual Average 2011  12/01/2010   \n",
      "1      Bedford Stuyvesant - Crown Heights  Annual Average 2009  12/01/2008   \n",
      "2                           East New York  Annual Average 2015  01/01/2015   \n",
      "3                      Fordham - Bronx Pk  Annual Average 2015  01/01/2015   \n",
      "4                    Pelham - Throgs Neck  Annual Average 2009  12/01/2008   \n",
      "...                                   ...                  ...         ...   \n",
      "16213             Williamsburg - Bushwick                 2005  01/01/2005   \n",
      "16214                       Staten Island                 2005  01/01/2005   \n",
      "16215           South Beach - Tottenville            2005-2007  01/01/2005   \n",
      "16216                       Staten Island            2005-2007  01/01/2005   \n",
      "16217               Upper West Side (CD7)                 2016  01/01/2016   \n",
      "\n",
      "       Data Value  Message  \n",
      "0           25.30      NaN  \n",
      "1           26.93      NaN  \n",
      "2           19.09      NaN  \n",
      "3           19.76      NaN  \n",
      "4           22.83      NaN  \n",
      "...           ...      ...  \n",
      "16213        3.10      NaN  \n",
      "16214        2.30      NaN  \n",
      "16215        7.50      NaN  \n",
      "16216        7.80      NaN  \n",
      "16217       50.00      NaN  \n",
      "\n",
      "[16218 rows x 12 columns]\n"
     ]
    }
   ],
   "source": [
    "dataset = pd.read_csv(r'D:\\Projects\\python\\notebook\\datasets\\Air_Quality.csv')\n",
    "print(dataset)"
   ]
  }
 ],
 "metadata": {
  "kernelspec": {
   "display_name": "Python 3",
   "language": "python",
   "name": "python3"
  },
  "language_info": {
   "codemirror_mode": {
    "name": "ipython",
    "version": 3
   },
   "file_extension": ".py",
   "mimetype": "text/x-python",
   "name": "python",
   "nbconvert_exporter": "python",
   "pygments_lexer": "ipython3",
   "version": "3.12.2"
  }
 },
 "nbformat": 4,
 "nbformat_minor": 2
}
